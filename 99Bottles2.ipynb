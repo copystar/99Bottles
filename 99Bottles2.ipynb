{
 "metadata": {
  "name": ""
 },
 "nbformat": 3,
 "nbformat_minor": 0,
 "worksheets": [
  {
   "cells": [
    {
     "cell_type": "code",
     "collapsed": false,
     "input": [
      "def plureler(word, amount):\n",
      "    ''' adds s to a word to make it plurel''' \n",
      "    \n",
      "    if amount == 1:\n",
      "        return word\n",
      "    else:\n",
      "        return word + 's'\n",
      "\n",
      "def sing(rounds):\n",
      "    ''' function will sing 99 Bottles of Beer for as many rounds as given'''\n",
      "    \n",
      "    for num in range(rounds, 0, -1):\n",
      "        print str(num) + ' ' + plureler('bottle', num) + ' of beer on the wall! ' + str(num) + \\\n",
      "        plureler(' bottle', num) + ' of beer! Take one down! Pass it around! ' + str(num - 1) + ' bottles of beer on the wall! '\n",
      "           \n",
      "sing(5)\n",
      "    "
     ],
     "language": "python",
     "metadata": {},
     "outputs": [
      {
       "output_type": "stream",
       "stream": "stdout",
       "text": [
        "5 bottles of beer on the wall! 5 bottles of beer! Take one down! Pass it around! 4 bottles of beer on the wall! \n",
        "4 bottles of beer on the wall! 4 bottles of beer! Take one down! Pass it around! 3 bottles of beer on the wall! \n",
        "3 bottles of beer on the wall! 3 bottles of beer! Take one down! Pass it around! 2 bottles of beer on the wall! \n",
        "2 bottles of beer on the wall! 2 bottles of beer! Take one down! Pass it around! 1 bottles of beer on the wall! \n",
        "1 bottle of beer on the wall! 1 bottle of beer! Take one down! Pass it around! 0 bottles of beer on the wall! \n"
       ]
      }
     ],
     "prompt_number": 26
    },
    {
     "cell_type": "code",
     "collapsed": false,
     "input": [],
     "language": "python",
     "metadata": {},
     "outputs": [],
     "prompt_number": 26
    },
    {
     "cell_type": "code",
     "collapsed": false,
     "input": [],
     "language": "python",
     "metadata": {},
     "outputs": []
    }
   ],
   "metadata": {}
  }
 ]
}